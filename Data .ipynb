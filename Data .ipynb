{
 "cells": [
  {
   "cell_type": "markdown",
   "metadata": {},
   "source": [
    "<h1>Battle of Neighbourhoods</h1>"
   ]
  },
  {
   "cell_type": "markdown",
   "metadata": {},
   "source": [
    "<h2>1. Introduction/Business Problem</h2>"
   ]
  },
  {
   "cell_type": "markdown",
   "metadata": {},
   "source": [
    "The population in Washington city has grown significantly over the last decade. So needs around Washington city also become high. Mainly Medical service need is high demand. So here we can analysis the population and other medical facilities to build a hospital in Washington city."
   ]
  },
  {
   "cell_type": "markdown",
   "metadata": {},
   "source": [
    "<h2>2. Data Section</h2>"
   ]
  },
  {
   "cell_type": "markdown",
   "metadata": {},
   "source": [
    "So we have to find a better palce to build a hospital. The palce should satisfy some of the criteras\n",
    "    1. Population around the city sholud be high\n",
    "    2. The place shouldn't consist too much of hospitals\n",
    "    3. The palce shold consist other facilitues like restaurant, Bus station, Railway station,so people density will be high            in the future.\n",
    "\n",
    "we can use the \"**List of cities and towns in Washington**\" data to solve our problem. Data can be found at https://en.wikipedia.org/wiki/List_of_cities_and_towns_in_Washington\n",
    "    "
   ]
  },
  {
   "cell_type": "markdown",
   "metadata": {},
   "source": [
    "<h3>2.1 Data preprocess</h3>"
   ]
  },
  {
   "cell_type": "code",
   "execution_count": 33,
   "metadata": {},
   "outputs": [],
   "source": [
    "import pandas as pd\n",
    "import numpy as np"
   ]
  },
  {
   "cell_type": "code",
   "execution_count": 34,
   "metadata": {},
   "outputs": [
    {
     "data": {
      "text/html": [
       "<div>\n",
       "<style scoped>\n",
       "    .dataframe tbody tr th:only-of-type {\n",
       "        vertical-align: middle;\n",
       "    }\n",
       "\n",
       "    .dataframe tbody tr th {\n",
       "        vertical-align: top;\n",
       "    }\n",
       "\n",
       "    .dataframe thead th {\n",
       "        text-align: right;\n",
       "    }\n",
       "</style>\n",
       "<table border=\"1\" class=\"dataframe\">\n",
       "  <thead>\n",
       "    <tr style=\"text-align: right;\">\n",
       "      <th></th>\n",
       "      <th>NameName</th>\n",
       "      <th>Type[3]Type[3]</th>\n",
       "      <th>County[4]County[4]</th>\n",
       "      <th>Population2018 estimate[6]</th>\n",
       "      <th>Population2010 Census[5]</th>\n",
       "      <th>Land area[5]sq mi</th>\n",
       "      <th>Land area[5]km2</th>\n",
       "    </tr>\n",
       "  </thead>\n",
       "  <tbody>\n",
       "    <tr>\n",
       "      <th>0</th>\n",
       "      <td>Aberdeen</td>\n",
       "      <td>First</td>\n",
       "      <td>Grays Harbor</td>\n",
       "      <td>16654</td>\n",
       "      <td>16896</td>\n",
       "      <td>10.65</td>\n",
       "      <td>27.6</td>\n",
       "    </tr>\n",
       "    <tr>\n",
       "      <th>1</th>\n",
       "      <td>Airway Heights</td>\n",
       "      <td>Code</td>\n",
       "      <td>Spokane</td>\n",
       "      <td>9200</td>\n",
       "      <td>6114</td>\n",
       "      <td>5.12</td>\n",
       "      <td>13.3</td>\n",
       "    </tr>\n",
       "    <tr>\n",
       "      <th>2</th>\n",
       "      <td>Algona</td>\n",
       "      <td>Code</td>\n",
       "      <td>King</td>\n",
       "      <td>3223</td>\n",
       "      <td>3014</td>\n",
       "      <td>1.30</td>\n",
       "      <td>3.4</td>\n",
       "    </tr>\n",
       "    <tr>\n",
       "      <th>3</th>\n",
       "      <td>Anacortes</td>\n",
       "      <td>Code</td>\n",
       "      <td>Skagit</td>\n",
       "      <td>17283</td>\n",
       "      <td>15778</td>\n",
       "      <td>11.76</td>\n",
       "      <td>30.5</td>\n",
       "    </tr>\n",
       "    <tr>\n",
       "      <th>4</th>\n",
       "      <td>Arlington</td>\n",
       "      <td>Code</td>\n",
       "      <td>Snohomish</td>\n",
       "      <td>19803</td>\n",
       "      <td>17926</td>\n",
       "      <td>9.30</td>\n",
       "      <td>24.1</td>\n",
       "    </tr>\n",
       "  </tbody>\n",
       "</table>\n",
       "</div>"
      ],
      "text/plain": [
       "         NameName Type[3]Type[3] County[4]County[4]  \\\n",
       "0        Aberdeen          First       Grays Harbor   \n",
       "1  Airway Heights           Code            Spokane   \n",
       "2          Algona           Code               King   \n",
       "3       Anacortes           Code             Skagit   \n",
       "4       Arlington           Code          Snohomish   \n",
       "\n",
       "   Population2018 estimate[6]  Population2010 Census[5]  Land area[5]sq mi  \\\n",
       "0                       16654                     16896              10.65   \n",
       "1                        9200                      6114               5.12   \n",
       "2                        3223                      3014               1.30   \n",
       "3                       17283                     15778              11.76   \n",
       "4                       19803                     17926               9.30   \n",
       "\n",
       "   Land area[5]km2  \n",
       "0             27.6  \n",
       "1             13.3  \n",
       "2              3.4  \n",
       "3             30.5  \n",
       "4             24.1  "
      ]
     },
     "execution_count": 34,
     "metadata": {},
     "output_type": "execute_result"
    }
   ],
   "source": [
    "import pandas as pd\n",
    "\n",
    "url = 'https://en.wikipedia.org/wiki/List_of_cities_and_towns_in_Washington'\n",
    "tables = pd.read_html(url,skiprows=0)[0]\n",
    "df=pd.DataFrame(tables)\n",
    "df.columns = df.columns.map(''.join)\n",
    "df.head()\n"
   ]
  },
  {
   "cell_type": "code",
   "execution_count": 35,
   "metadata": {},
   "outputs": [
    {
     "data": {
      "text/html": [
       "<div>\n",
       "<style scoped>\n",
       "    .dataframe tbody tr th:only-of-type {\n",
       "        vertical-align: middle;\n",
       "    }\n",
       "\n",
       "    .dataframe tbody tr th {\n",
       "        vertical-align: top;\n",
       "    }\n",
       "\n",
       "    .dataframe thead th {\n",
       "        text-align: right;\n",
       "    }\n",
       "</style>\n",
       "<table border=\"1\" class=\"dataframe\">\n",
       "  <thead>\n",
       "    <tr style=\"text-align: right;\">\n",
       "      <th></th>\n",
       "      <th>Name</th>\n",
       "      <th>County</th>\n",
       "      <th>Population</th>\n",
       "      <th>Land Area(km2)</th>\n",
       "    </tr>\n",
       "  </thead>\n",
       "  <tbody>\n",
       "    <tr>\n",
       "      <th>0</th>\n",
       "      <td>Aberdeen</td>\n",
       "      <td>Grays Harbor</td>\n",
       "      <td>16896</td>\n",
       "      <td>27.6</td>\n",
       "    </tr>\n",
       "    <tr>\n",
       "      <th>1</th>\n",
       "      <td>Airway Heights</td>\n",
       "      <td>Spokane</td>\n",
       "      <td>6114</td>\n",
       "      <td>13.3</td>\n",
       "    </tr>\n",
       "    <tr>\n",
       "      <th>2</th>\n",
       "      <td>Algona</td>\n",
       "      <td>King</td>\n",
       "      <td>3014</td>\n",
       "      <td>3.4</td>\n",
       "    </tr>\n",
       "    <tr>\n",
       "      <th>3</th>\n",
       "      <td>Anacortes</td>\n",
       "      <td>Skagit</td>\n",
       "      <td>15778</td>\n",
       "      <td>30.5</td>\n",
       "    </tr>\n",
       "    <tr>\n",
       "      <th>4</th>\n",
       "      <td>Arlington</td>\n",
       "      <td>Snohomish</td>\n",
       "      <td>17926</td>\n",
       "      <td>24.1</td>\n",
       "    </tr>\n",
       "  </tbody>\n",
       "</table>\n",
       "</div>"
      ],
      "text/plain": [
       "             Name        County  Population  Land Area(km2)\n",
       "0        Aberdeen  Grays Harbor       16896            27.6\n",
       "1  Airway Heights       Spokane        6114            13.3\n",
       "2          Algona          King        3014             3.4\n",
       "3       Anacortes        Skagit       15778            30.5\n",
       "4       Arlington     Snohomish       17926            24.1"
      ]
     },
     "execution_count": 35,
     "metadata": {},
     "output_type": "execute_result"
    }
   ],
   "source": [
    "df=df[['NameName','County[4]County[4]','Population2010 Census[5]','Land area[5]km2']]\n",
    "df.rename(columns={'County[4]County[4]':'County','NameName':'Name','Population2010 Census[5]':'Population','Land area[5]km2':'Land Area(km2)'}, inplace=True)\n",
    "df.head()"
   ]
  },
  {
   "cell_type": "code",
   "execution_count": null,
   "metadata": {},
   "outputs": [],
   "source": []
  }
 ],
 "metadata": {
  "kernelspec": {
   "display_name": "Python 3",
   "language": "python",
   "name": "python3"
  },
  "language_info": {
   "codemirror_mode": {
    "name": "ipython",
    "version": 3
   },
   "file_extension": ".py",
   "mimetype": "text/x-python",
   "name": "python",
   "nbconvert_exporter": "python",
   "pygments_lexer": "ipython3",
   "version": "3.6.10"
  }
 },
 "nbformat": 4,
 "nbformat_minor": 4
}
